{
  "nbformat": 4,
  "nbformat_minor": 0,
  "metadata": {
    "colab": {
      "provenance": [],
      "gpuType": "T4",
      "authorship_tag": "ABX9TyOKdtwI/AIxMBko2CVkwKVa",
      "include_colab_link": true
    },
    "kernelspec": {
      "name": "python3",
      "display_name": "Python 3"
    },
    "language_info": {
      "name": "python"
    },
    "accelerator": "GPU"
  },
  "cells": [
    {
      "cell_type": "markdown",
      "metadata": {
        "id": "view-in-github",
        "colab_type": "text"
      },
      "source": [
        "<a href=\"https://colab.research.google.com/github/jiruneko/Recomend_JAX1_Oreilly/blob/main/Recomend_JAX1_Oreilly.ipynb\" target=\"_parent\"><img src=\"https://colab.research.google.com/assets/colab-badge.svg\" alt=\"Open In Colab\"/></a>"
      ]
    },
    {
      "cell_type": "code",
      "execution_count": null,
      "metadata": {
        "colab": {
          "base_uri": "https://localhost:8080/"
        },
        "id": "Nj_GVmBWa_8S",
        "outputId": "ecbd9db2-9de0-4ef3-81eb-1e23edfeb532"
      },
      "outputs": [
        {
          "output_type": "stream",
          "name": "stdout",
          "text": [
            "[1. 2. 3.]\n",
            "(3,)\n",
            "1.0\n"
          ]
        }
      ],
      "source": [
        "import jax.numpy as jnp\n",
        "import numpy as np\n",
        "\n",
        "x = jnp.array([1.0, 2.0, 3.0], dtype=jnp.float32)\n",
        "\n",
        "print(x)\n",
        "\n",
        "print(x.shape)\n",
        "\n",
        "print(x[0])"
      ]
    },
    {
      "cell_type": "code",
      "source": [
        "x = jnp.array([[1, 2, 3], [4, 5, 6 ], [7, 8, 9]], dtype=jnp.int32)\n",
        "\n",
        "print(x)\n",
        "\n",
        "print(x[0])\n",
        "\n",
        "print(x[-1])\n",
        "\n",
        "print(x[:, 1])\n",
        "\n",
        "print(x[::2, ::2])"
      ],
      "metadata": {
        "colab": {
          "base_uri": "https://localhost:8080/"
        },
        "id": "DKdc90WIbhGE",
        "outputId": "6113c9b8-1912-454a-fd37-a5e01e9eac46"
      },
      "execution_count": null,
      "outputs": [
        {
          "output_type": "stream",
          "name": "stdout",
          "text": [
            "[[1 2 3]\n",
            " [4 5 6]\n",
            " [7 8 9]]\n",
            "[1 2 3]\n",
            "[7 8 9]\n",
            "[2 5 8]\n",
            "[[1 3]\n",
            " [7 9]]\n"
          ]
        }
      ]
    },
    {
      "cell_type": "code",
      "source": [
        "x = jnp.array([[1, 2, 3], [4, 5, 6], [7, 8, 9]], dtype=jnp.int32)\n",
        "\n",
        "y = 2 * x\n",
        "print(y)\n",
        "\n",
        "vec = jnp.reshape(jnp.array([0.5, 1.0, 2.0]), [3, 1])\n",
        "y = vec * x\n",
        "print(y)\n",
        "\n",
        "vec = jnp.reshape(vec, [1, 3])\n",
        "y = vec * x\n",
        "print(y)"
      ],
      "metadata": {
        "colab": {
          "base_uri": "https://localhost:8080/"
        },
        "id": "j-yN9AqcqrOc",
        "outputId": "cb82c179-839d-4f3a-8854-ff22355744fe"
      },
      "execution_count": null,
      "outputs": [
        {
          "output_type": "stream",
          "name": "stdout",
          "text": [
            "[[ 2  4  6]\n",
            " [ 8 10 12]\n",
            " [14 16 18]]\n",
            "[[ 0.5  1.   1.5]\n",
            " [ 4.   5.   6. ]\n",
            " [14.  16.  18. ]]\n",
            "[[ 0.5  2.   6. ]\n",
            " [ 2.   5.  12. ]\n",
            " [ 3.5  8.  18. ]]\n"
          ]
        }
      ]
    },
    {
      "cell_type": "code",
      "source": [
        "import jax.random as random\n",
        "\n",
        "key = random.PRNGKey(0)\n",
        "x = random.uniform(key, shape=[3, 3])\n",
        "print(x)"
      ],
      "metadata": {
        "colab": {
          "base_uri": "https://localhost:8080/"
        },
        "id": "5iaPZ6Cwsz8H",
        "outputId": "74f49279-9d6b-46ec-da1e-a81ba2eb5d8d"
      },
      "execution_count": null,
      "outputs": [
        {
          "output_type": "stream",
          "name": "stdout",
          "text": [
            "[[0.947667   0.9785799  0.33229148]\n",
            " [0.46866846 0.5698887  0.16550303]\n",
            " [0.3101946  0.68948054 0.74676657]]\n"
          ]
        }
      ]
    },
    {
      "cell_type": "code",
      "source": [
        "key, subkey = random.split(key)\n",
        "x = random.uniform(key, shape=[3, 3])\n",
        "print(x)\n",
        "\n",
        "y = random.uniform(subkey, shape=[3, 3])\n",
        "print(y)"
      ],
      "metadata": {
        "colab": {
          "base_uri": "https://localhost:8080/"
        },
        "id": "qbRRgpWUtxZr",
        "outputId": "b5166c0b-d745-472b-90f3-b24dab6dc16b"
      },
      "execution_count": null,
      "outputs": [
        {
          "output_type": "stream",
          "name": "stdout",
          "text": [
            "[[0.8423141  0.18237865 0.2271781 ]\n",
            " [0.12072563 0.19181347 0.722015  ]\n",
            " [0.7654456  0.15254045 0.9517063 ]]\n",
            "[[0.00729382 0.02089119 0.5814265 ]\n",
            " [0.36183798 0.22303772 0.11928833]\n",
            " [0.12543893 0.61683    0.0950073 ]]\n"
          ]
        }
      ]
    },
    {
      "cell_type": "code",
      "source": [
        "import seaborn as sns\n",
        "\n",
        "_ = np.nan\n",
        "scores = np.array([[5,4,4,1],\n",
        "                   [2,3,3,4.5],\n",
        "                   [3,2,3,4],\n",
        "                   [4,4,5,_],\n",
        "                   [3,_,_,_]])\n",
        "sns.heatmap(\n",
        "    scores,\n",
        "    annot=True,\n",
        "    fmt=\".1f\",\n",
        "    xticklabels=['Couda', 'Cherve', 'Emmentaler', 'Brie',],\n",
        "    yticklabels=['A', 'B', 'C', 'D', 'E'],\n",
        ")"
      ],
      "metadata": {
        "colab": {
          "base_uri": "https://localhost:8080/",
          "height": 453
        },
        "id": "BqYbIVA-ufRD",
        "outputId": "f7ee1835-c12d-4700-8fd7-0de85d2eb33e"
      },
      "execution_count": null,
      "outputs": [
        {
          "output_type": "execute_result",
          "data": {
            "text/plain": [
              "<Axes: >"
            ]
          },
          "metadata": {},
          "execution_count": 6
        },
        {
          "output_type": "display_data",
          "data": {
            "text/plain": [
              "<Figure size 640x480 with 2 Axes>"
            ],
            "image/png": "[encoded data removed]"
          },
          "metadata": {}
        }
      ]
    },
    {
      "cell_type": "code",
      "source": [],
      "metadata": {
        "id": "lw2fsOh7xz86"
      },
      "execution_count": null,
      "outputs": []
    }
  ]
}